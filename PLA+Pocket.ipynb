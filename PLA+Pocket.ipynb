{
 "cells": [
  {
   "cell_type": "code",
   "execution_count": null,
   "id": "e1998814-73d0-4620-b4d7-08ec790e1364",
   "metadata": {},
   "outputs": [],
   "source": [
    "import numpy as np\n",
    "import matplotlib.pyplot as plt\n",
    "from sklearn.model_selection import train_test_split"
   ]
  },
  {
   "cell_type": "code",
   "execution_count": null,
   "id": "f88a65af-466f-4cd6-afd8-ab4d63a196f7",
   "metadata": {},
   "outputs": [],
   "source": [
    "class PLA():    \n",
    "    def __init__(self, w0):\n",
    "        self.w = w0\n",
    "    \n",
    "    def fit(self, Xtrain, ytrain):\n",
    "        n = Xtrain.shape[0]\n",
    "        X_expend = np.hstack((Xtrain, np.ones(n).reshape(-1,1)))\n",
    "        count = 1\n",
    "        while count > 0:\n",
    "            count = 0\n",
    "            for i in range(n):\n",
    "                if np.sign(np.dot(self.w, X_expend[i,:])) != ytrain[i] :\n",
    "                    count = count + 1\n",
    "                    self.w = self.w + ytrain[i]*X_expend[i,:]\n",
    "    \n",
    "    def score(self, Xtest, ytest):\n",
    "        n = Xtest.shape[0]\n",
    "        X_expend = np.hstack((Xtest, np.ones(n).reshape(-1,1)))\n",
    "        count = 0\n",
    "        for i in range(n):\n",
    "            if np.sign(np.dot(self.w, X_expend[i,:])) != ytest[i] :\n",
    "                count = count + 1\n",
    "        print('PLA正确率为' + str((n-count)/n)[:6])\n",
    "        return (n-count)/n\n",
    "        \n",
    "    def distance(self, X):\n",
    "        n = X.shape[0]\n",
    "        X_expend = np.hstack((X, np.ones(n).reshape(-1,1)))\n",
    "        return np.dot(X_expend, np.array(self.w).reshape(-1,1))/np.sqrt(np.dot(self.w, self.w))"
   ]
  },
  {
   "cell_type": "code",
   "execution_count": null,
   "id": "3bcec2e4-3255-4052-a440-fae25a716d31",
   "metadata": {},
   "outputs": [],
   "source": [
    "class Pocket():\n",
    "    def __init__(self, w0, iteration=100):\n",
    "        self.w = w0\n",
    "        self.bestw = w0\n",
    "        self.bestcount = 0\n",
    "        self.iter = iteration\n",
    "        \n",
    "    def fit(self, Xtrain, ytrain):\n",
    "        n = Xtrain.shape[0]\n",
    "        X_expend = np.hstack((Xtrain, np.ones(n).reshape(-1,1)))\n",
    "        for i in range(self.iter):\n",
    "            count = 0\n",
    "            for j in range(n):\n",
    "                if np.sign(np.dot(self.w, X_expend[j,:])) != ytrain[j] :\n",
    "                    count = count + 1\n",
    "                    if i > 0:\n",
    "                        self.w = self.w + ytrain[j]*X_expend[j,:]\n",
    "            if i == 0:\n",
    "                self.bestcount = count\n",
    "            else :\n",
    "                if count < self.bestcount :\n",
    "                    self.bestw = self.w\n",
    "                    self.bestcount = count\n",
    "                        \n",
    "    def score(self, Xtest, ytest):\n",
    "        n = Xtest.shape[0]\n",
    "        X_expend = np.hstack((Xtest, np.ones(n).reshape(-1,1)))\n",
    "        count = 0\n",
    "        for i in range(n):\n",
    "            if np.sign(np.dot(self.bestw, X_expend[i,:])) != ytest[i] :\n",
    "                count = count + 1\n",
    "        print('Pocket正确率为' + str((n-count)/n)[:6])\n",
    "        return (n-count)/n\n",
    "        \n",
    "    def distance(self, X):\n",
    "        n = X.shape[0]\n",
    "        X_expend = np.hstack((X, np.ones(n).reshape(-1,1)))\n",
    "        return np.dot(X_expend, np.array(self.bestw).reshape(-1,1))/np.sqrt(np.dot(self.bestw, self.bestw))"
   ]
  },
  {
   "cell_type": "code",
   "execution_count": null,
   "id": "dee25604-8da2-4d11-ada8-a48e7cfd1c07",
   "metadata": {},
   "outputs": [],
   "source": [
    "mean1 = [-5, 0]\n",
    "s1 = [[1, 0], [0, 1]]\n",
    "data1 = np.random.multivariate_normal(mean1, s1, 200)\n",
    "mean2 = [0, 5]\n",
    "s2 = [[1, 0], [0, 1]]\n",
    "data2 = np.random.multivariate_normal(mean2, s2, 200)\n",
    "X = np.vstack((data1, data2))\n",
    "ones = np.ones(200).reshape(-1,1)\n",
    "y = np.vstack((ones,-1*ones))\n",
    "Xtrain, Xtest, ytrain, ytest = train_test_split(X, y, test_size=0.2)"
   ]
  },
  {
   "cell_type": "code",
   "execution_count": null,
   "id": "2254e2a2-668d-4903-83af-e24be06cb58a",
   "metadata": {},
   "outputs": [],
   "source": [
    "%%time\n",
    "model1 = PLA([0, 0, 0])\n",
    "model1.fit(Xtrain, ytrain)\n",
    "model1.score(Xtest, ytest);"
   ]
  },
  {
   "cell_type": "code",
   "execution_count": null,
   "id": "8515d467-f074-4018-9e79-d3f38cffcd2f",
   "metadata": {},
   "outputs": [],
   "source": [
    "%%time\n",
    "model2 = Pocket([0, 0, 0])\n",
    "model2.fit(Xtrain, ytrain)\n",
    "model2.score(Xtest, ytest);"
   ]
  },
  {
   "cell_type": "code",
   "execution_count": null,
   "id": "02dd12e6-6a6f-4a98-ae0d-8736d2515188",
   "metadata": {},
   "outputs": [],
   "source": [
    "train_index = (ytrain==1).ravel()\n",
    "test_index = (ytest==1).ravel()\n",
    "plt.scatter(Xtrain[train_index, 0], Xtrain[train_index, 1], marker='.', c='b', s=100\n",
    "            , label='train +1')\n",
    "plt.scatter(Xtrain[~train_index, 0], Xtrain[~train_index, 1], marker='.', c='k', s=100\n",
    "           , label='train -1')\n",
    "plt.scatter(Xtest[test_index, 0], Xtest[test_index, 1], marker='D', c='r', label='test +1')\n",
    "plt.scatter(Xtest[~test_index, 0], Xtest[~test_index, 1], marker='D', c='y', label='test -1')\n",
    "ax = plt.gca()\n",
    "xlim = ax.get_xlim()\n",
    "ylim = ax.get_ylim()\n",
    "axisx = np.linspace(xlim[0], xlim[1], 30)\n",
    "axisy = np.linspace(ylim[0], ylim[1], 30)\n",
    "axisx, axisy = np.meshgrid(axisx, axisy)\n",
    "xy = np.vstack([axisx.ravel(), axisy.ravel()]).T\n",
    "z = model1.distance(xy).reshape(axisx.shape)\n",
    "plt.contour(axisx, axisy, z, levels=[0], linestyles=['--'])\n",
    "plt.legend()\n",
    "plt.title('PLA')\n",
    "plt.show();"
   ]
  },
  {
   "cell_type": "code",
   "execution_count": null,
   "id": "d0c196dd-dbe5-41bf-aae1-6a14d521b9ea",
   "metadata": {},
   "outputs": [],
   "source": [
    "plt.scatter(Xtrain[train_index, 0], Xtrain[train_index, 1], marker='.', c='b', s=100\n",
    "            , label='train +1')\n",
    "plt.scatter(Xtrain[~train_index, 0], Xtrain[~train_index, 1], marker='.', c='k', s=100\n",
    "           , label='train -1')\n",
    "plt.scatter(Xtest[test_index, 0], Xtest[test_index, 1], marker='D', c='r', label='test +1')\n",
    "plt.scatter(Xtest[~test_index, 0], Xtest[~test_index, 1], marker='D', c='y', label='test -1')\n",
    "ax = plt.gca()\n",
    "xlim = ax.get_xlim()\n",
    "ylim = ax.get_ylim()\n",
    "axisx = np.linspace(xlim[0], xlim[1], 30)\n",
    "axisy = np.linspace(ylim[0], ylim[1], 30)\n",
    "axisx, axisy = np.meshgrid(axisx, axisy)\n",
    "xy = np.vstack([axisx.ravel(), axisy.ravel()]).T\n",
    "z = model2.distance(xy).reshape(axisx.shape)\n",
    "plt.contour(axisx, axisy, z, levels=[0], linestyles=['--'])\n",
    "plt.legend()\n",
    "plt.title('Pocket')\n",
    "plt.show();"
   ]
  }
 ],
 "metadata": {
  "kernelspec": {
   "display_name": "Python 3 (ipykernel)",
   "language": "python",
   "name": "python3"
  },
  "language_info": {
   "codemirror_mode": {
    "name": "ipython",
    "version": 3
   },
   "file_extension": ".py",
   "mimetype": "text/x-python",
   "name": "python",
   "nbconvert_exporter": "python",
   "pygments_lexer": "ipython3",
   "version": "3.9.7"
  }
 },
 "nbformat": 4,
 "nbformat_minor": 5
}
