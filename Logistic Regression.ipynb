{
 "cells": [
  {
   "cell_type": "code",
   "execution_count": null,
   "id": "38e8af2b-b262-4fc0-94b2-ce2316958d16",
   "metadata": {},
   "outputs": [],
   "source": [
    "import numpy as np\n",
    "import matplotlib.pyplot as plt\n",
    "from sklearn.model_selection import train_test_split"
   ]
  },
  {
   "cell_type": "code",
   "execution_count": null,
   "id": "f21062ac-1579-49bc-bd1c-a56659979dd3",
   "metadata": {},
   "outputs": [],
   "source": [
    "class LogR():    \n",
    "    def __init__(self, batch_size=16, eta=0.001, \n",
    "                 w0=np.zeros(3).reshape(-1,1), iteration=100):\n",
    "        self.batchsize = batch_size\n",
    "        self.eta = eta\n",
    "        self.w = w0\n",
    "        self.iter = iteration\n",
    "        \n",
    "    def sigmoid(self, x):\n",
    "        return 1/(1 + np.exp(-x))\n",
    "        \n",
    "    def fit(self, Xtrain, ytrain):\n",
    "        n = Xtrain.shape[0]\n",
    "        X_expend = np.hstack((Xtrain, np.ones(n).reshape(-1,1)))\n",
    "        batchnum = int(np.ceil(n/self.batchsize))\n",
    "        loss = []\n",
    "        batch_loss = 0\n",
    "        grad = 0\n",
    "        for epoch in range(self.iter):\n",
    "            epoch_loss = []\n",
    "            for i in range(batchnum):\n",
    "                if i < batchnum:\n",
    "                    Xtmp = X_expend[i*self.batchsize:(i+1)*self.batchsize, :]\n",
    "                    ytmp = ytrain[i*self.batchsize:(i+1)*self.batchsize]\n",
    "                else :\n",
    "                    Xtmp = X_expend[i*self.batchsize:, :]\n",
    "                    ytmp = ytrain[i*self.batchsize:]\n",
    "                for j in range(self.batchsize):\n",
    "                    batch_loss += np.log(1 + np.exp(-ytmp[j]*(Xtmp[j, :].reshape(1,-1).dot(self.w)).ravel()))\n",
    "                    grad += self.sigmoid(-ytmp[j]*Xtmp[j, :].dot(self.w))*(-ytmp[j]*Xtmp[j, :].T)\n",
    "                batch_loss = (batch_loss/self.batchsize).ravel()\n",
    "                grad = grad/self.batchsize\n",
    "                self.w = self.w - self.eta*grad.reshape(-1,1)\n",
    "                epoch_loss.append(batch_loss)\n",
    "            loss.append(sum(epoch_loss)/batchnum)\n",
    "        return loss       \n",
    "            \n",
    "    def score(self, Xtest, ytest):\n",
    "        n = Xtest.shape[0]\n",
    "        X_expend = np.hstack((Xtest, np.ones(n).reshape(-1,1)))\n",
    "        count = 0\n",
    "        Pr = []\n",
    "        for i in range(n):\n",
    "            pr = self.sigmoid(X_expend[i,:].dot(self.w))\n",
    "            if np.sign(pr - 0.5) != ytest[i] :\n",
    "                count = count + 1\n",
    "            Pr.append(*pr)\n",
    "        print('Logistic Regression正确率为' + str((n-count)/n)[:6])\n",
    "        return Pr\n",
    "    \n",
    "    def predict(self, X):\n",
    "        n = X.shape[0]\n",
    "        X_expend = np.hstack((X, np.ones(n).reshape(-1,1)))\n",
    "        return self.sigmoid(X_expend.dot(self.w))"
   ]
  },
  {
   "cell_type": "code",
   "execution_count": null,
   "id": "0c19477f-40c8-4141-9e21-6a44e3f6b5e5",
   "metadata": {},
   "outputs": [],
   "source": [
    "mean1 = [-5, 0]\n",
    "s1 = [[1, 0], [0, 1]]\n",
    "data1 = np.random.multivariate_normal(mean1, s1, 200)\n",
    "mean2 = [0, 5]\n",
    "s2 = [[1, 0], [0, 1]]\n",
    "data2 = np.random.multivariate_normal(mean2, s2, 200)\n",
    "X = np.vstack((data1, data2))\n",
    "ones = np.ones(200).reshape(-1,1)\n",
    "y = np.vstack((ones,-1*ones))\n",
    "Xtrain, Xtest, ytrain, ytest = train_test_split(X, y, test_size=0.2)"
   ]
  },
  {
   "cell_type": "code",
   "execution_count": null,
   "id": "74fc6fc7-3ad1-42a8-af5a-95cfd683d665",
   "metadata": {},
   "outputs": [],
   "source": [
    "model = LogR()\n",
    "loss = model.fit(Xtrain, ytrain)\n",
    "Pr = model.score(Xtest, ytest);\n",
    "print('分类概率为',Pr)"
   ]
  },
  {
   "cell_type": "code",
   "execution_count": null,
   "id": "c4a34e8a-b075-4f45-8419-9417cd1953e6",
   "metadata": {},
   "outputs": [],
   "source": [
    "plt.plot([i+1 for i in range(len(loss))], loss)\n",
    "plt.title('eta= '+ str(model.eta))\n",
    "plt.xlabel('epoch')\n",
    "plt.ylabel('loss');"
   ]
  },
  {
   "cell_type": "code",
   "execution_count": null,
   "id": "ac99c175-9fd6-427d-9c3e-5ebb2639f107",
   "metadata": {},
   "outputs": [],
   "source": [
    "train_index = (ytrain==1).ravel()\n",
    "test_index = (ytest==1).ravel()\n",
    "plt.scatter(Xtrain[train_index, 0], Xtrain[train_index, 1], marker='.', c='b', s=100\n",
    "            , label='train +1')\n",
    "plt.scatter(Xtrain[~train_index, 0], Xtrain[~train_index, 1], marker='.', c='k', s=100\n",
    "           , label='train -1')\n",
    "plt.scatter(Xtest[test_index, 0], Xtest[test_index, 1], marker='D', c='r', label='test +1')\n",
    "plt.scatter(Xtest[~test_index, 0], Xtest[~test_index, 1], marker='D', c='y', label='test -1')\n",
    "ax = plt.gca()\n",
    "xlim = ax.get_xlim()\n",
    "ylim = ax.get_ylim()\n",
    "axisx = np.linspace(xlim[0], xlim[1], 30)\n",
    "axisy = np.linspace(ylim[0], ylim[1], 30)\n",
    "axisx, axisy = np.meshgrid(axisx, axisy)\n",
    "xy = np.vstack([axisx.ravel(), axisy.ravel()]).T\n",
    "z = model.predict(xy).reshape(axisx.shape)\n",
    "plt.contour(axisx, axisy, z, levels=[0.5], linestyles=['--'])\n",
    "plt.legend()\n",
    "plt.title('Logistic Regression')\n",
    "plt.show();"
   ]
  }
 ],
 "metadata": {
  "kernelspec": {
   "display_name": "Python 3 (ipykernel)",
   "language": "python",
   "name": "python3"
  },
  "language_info": {
   "codemirror_mode": {
    "name": "ipython",
    "version": 3
   },
   "file_extension": ".py",
   "mimetype": "text/x-python",
   "name": "python",
   "nbconvert_exporter": "python",
   "pygments_lexer": "ipython3",
   "version": "3.9.7"
  }
 },
 "nbformat": 4,
 "nbformat_minor": 5
}
