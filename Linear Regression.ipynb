{
 "cells": [
  {
   "cell_type": "code",
   "execution_count": null,
   "id": "37f4e2ab-a341-4562-91f9-8f1c1d12745f",
   "metadata": {},
   "outputs": [],
   "source": [
    "import numpy as np\n",
    "import matplotlib.pyplot as plt\n",
    "from sklearn.model_selection import train_test_split"
   ]
  },
  {
   "cell_type": "code",
   "execution_count": null,
   "id": "d91c2232-da2d-404f-bf59-a49d740ed300",
   "metadata": {},
   "outputs": [],
   "source": [
    "class LR():    \n",
    "    def __init__(self, algorithm='inv', batch_size=16,\n",
    "                 eta=0.001, w0=np.zeros(3).reshape(-1,1), iteration=100):\n",
    "        self.algorithm = algorithm\n",
    "        self.batchsize = batch_size\n",
    "        self.eta = eta\n",
    "        self.w = w0\n",
    "        self.iter = iteration\n",
    "        \n",
    "    def fit(self, Xtrain, ytrain):\n",
    "        n = Xtrain.shape[0]\n",
    "        X_expend = np.hstack((Xtrain, np.ones(n).reshape(-1,1)))\n",
    "        if self.algorithm == 'inv':\n",
    "            self.w = np.linalg.inv(X_expend.T.dot(X_expend)).dot(X_expend.T).dot(ytrain)\n",
    "        elif self.algorithm == 'sgd':\n",
    "            batchnum = int(np.ceil(n/self.batchsize))\n",
    "            loss = []\n",
    "            for epoch in range(self.iter):\n",
    "                epoch_loss = []\n",
    "                for i in range(batchnum):\n",
    "                    if i <batchnum:\n",
    "                        Xtmp = X_expend[i*self.batchsize:(i+1)*self.batchsize, :]\n",
    "                        ytmp = ytrain[i*self.batchsize:(i+1)*self.batchsize]\n",
    "                    else :\n",
    "                        Xtmp = X_expend[i*self.batchsize:, :]\n",
    "                        ytmp = ytrain[i*self.batchsize:]\n",
    "                    batch_loss = ((Xtmp.dot(self.w) - ytmp).T.dot((Xtmp.dot(self.w) - ytmp))/self.batchsize).ravel()\n",
    "                    grad = 2*(Xtmp.T.dot(Xtmp).dot(self.w) - Xtmp.T.dot(ytmp))/self.batchsize\n",
    "                    self.w = self.w - self.eta*grad\n",
    "                    epoch_loss.append(batch_loss)\n",
    "                loss.append(sum(epoch_loss)/batchnum)\n",
    "            return loss       \n",
    "        else :\n",
    "            print('未知算法')\n",
    "            \n",
    "    def score(self, Xtest, ytest):\n",
    "        n = Xtest.shape[0]\n",
    "        X_expend = np.hstack((Xtest, np.ones(n).reshape(-1,1)))\n",
    "        count = 0\n",
    "        for i in range(n):\n",
    "            if np.sign(np.dot(self.w.T, X_expend[i,:])) != ytest[i] :\n",
    "                count = count + 1\n",
    "        print('LR正确率为' + str((n-count)/n)[:6])\n",
    "        return (n-count)/n\n",
    "    \n",
    "    def predict(self, X):\n",
    "        n = X.shape[0]\n",
    "        X_expend = np.hstack((X, np.ones(n).reshape(-1,1)))\n",
    "        return np.dot(X_expend, self.w)"
   ]
  },
  {
   "cell_type": "code",
   "execution_count": null,
   "id": "3543f8eb-de86-428d-bcff-fd3854bb43d6",
   "metadata": {},
   "outputs": [],
   "source": [
    "mean1 = [-5, 0]\n",
    "s1 = [[1, 0], [0, 1]]\n",
    "data1 = np.random.multivariate_normal(mean1, s1, 200)\n",
    "mean2 = [0, 5]\n",
    "s2 = [[1, 0], [0, 1]]\n",
    "data2 = np.random.multivariate_normal(mean2, s2, 200)\n",
    "X = np.vstack((data1, data2))\n",
    "ones = np.ones(200).reshape(-1,1)\n",
    "y = np.vstack((ones,-1*ones))\n",
    "Xtrain, Xtest, ytrain, ytest = train_test_split(X, y, test_size=0.2)"
   ]
  },
  {
   "cell_type": "code",
   "execution_count": null,
   "id": "2108d9e4-458d-44f4-8972-e7573b86f7e4",
   "metadata": {},
   "outputs": [],
   "source": [
    "model1 = LR('sgd')\n",
    "loss=model1.fit(Xtrain, ytrain)\n",
    "model1.score(Xtrain, ytrain)\n",
    "model1.score(Xtest, ytest);"
   ]
  },
  {
   "cell_type": "code",
   "execution_count": null,
   "id": "66e67b19-942f-4497-8e41-a2ef8e232de8",
   "metadata": {},
   "outputs": [],
   "source": [
    "plt.plot([i+1 for i in range(len(loss))], loss)\n",
    "plt.title('average loss for each epoch')\n",
    "plt.xlabel('epoch')\n",
    "plt.ylabel('loss')"
   ]
  },
  {
   "cell_type": "code",
   "execution_count": null,
   "id": "a677fecb-995d-4a8e-ba5c-f43972c2fa5d",
   "metadata": {},
   "outputs": [],
   "source": [
    "train_index = (ytrain==1).ravel()\n",
    "test_index = (ytest==1).ravel()\n",
    "plt.scatter(Xtrain[train_index, 0], Xtrain[train_index, 1], marker='.', c='b', s=100\n",
    "            , label='train +1')\n",
    "plt.scatter(Xtrain[~train_index, 0], Xtrain[~train_index, 1], marker='.', c='k', s=100\n",
    "           , label='train -1')\n",
    "plt.scatter(Xtest[test_index, 0], Xtest[test_index, 1], marker='D', c='r', label='test +1')\n",
    "plt.scatter(Xtest[~test_index, 0], Xtest[~test_index, 1], marker='D', c='y', label='test -1')\n",
    "ax = plt.gca()\n",
    "xlim = ax.get_xlim()\n",
    "ylim = ax.get_ylim()\n",
    "axisx = np.linspace(xlim[0], xlim[1], 30)\n",
    "axisy = np.linspace(ylim[0], ylim[1], 30)\n",
    "axisx, axisy = np.meshgrid(axisx, axisy)\n",
    "xy = np.vstack([axisx.ravel(), axisy.ravel()]).T\n",
    "z = model1.predict(xy).reshape(axisx.shape)\n",
    "plt.contour(axisx, axisy, z, levels=[0], linestyles=['--'])\n",
    "plt.legend()\n",
    "plt.title('inv')\n",
    "plt.show();"
   ]
  }
 ],
 "metadata": {
  "kernelspec": {
   "display_name": "Python 3 (ipykernel)",
   "language": "python",
   "name": "python3"
  },
  "language_info": {
   "codemirror_mode": {
    "name": "ipython",
    "version": 3
   },
   "file_extension": ".py",
   "mimetype": "text/x-python",
   "name": "python",
   "nbconvert_exporter": "python",
   "pygments_lexer": "ipython3",
   "version": "3.9.7"
  }
 },
 "nbformat": 4,
 "nbformat_minor": 5
}
