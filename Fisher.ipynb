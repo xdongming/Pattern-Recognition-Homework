{
 "cells": [
  {
   "cell_type": "code",
   "execution_count": null,
   "id": "fe1cd710-ef8d-49aa-9698-9c680ab18050",
   "metadata": {},
   "outputs": [],
   "source": [
    "import numpy as np\n",
    "import matplotlib.pyplot as plt\n",
    "from sklearn.model_selection import train_test_split"
   ]
  },
  {
   "cell_type": "code",
   "execution_count": null,
   "id": "01bfb76b-9137-486b-907e-0f6fec9ebf08",
   "metadata": {},
   "outputs": [],
   "source": [
    "class FDA():    \n",
    "    def __init__(self):\n",
    "        self.w = 0\n",
    "        self.threshold = 0\n",
    "    \n",
    "    def fit(self, Xtrain, ytrain):\n",
    "        index = (ytrain == 1).ravel()\n",
    "        X_pos = Xtrain[index, :]\n",
    "        X_neg = Xtrain[~index, :]\n",
    "        mu_pos = np.mean(X_pos, axis=0)\n",
    "        mu_neg = np.mean(X_neg, axis=0)\n",
    "        sigma_pos = (X_pos-mu_pos).T.dot((X_pos-mu_pos))\n",
    "        sigma_neg = (X_neg-mu_neg).T.dot((X_neg-mu_neg))\n",
    "        Sw = sigma_pos + sigma_neg\n",
    "        self.w = np.linalg.inv(Sw).dot(mu_pos.T - mu_neg.T)\n",
    "        self.threshold = self.w.T.dot(mu_pos.T + mu_neg.T)/2\n",
    "        \n",
    "    def score(self, Xtest, ytest):\n",
    "        n = ytest.shape[0]\n",
    "        count = 0\n",
    "        for i in range(n):\n",
    "            if np.sign(np.dot(Xtest[i, :], self.w) - self.threshold) != ytest[i] :\n",
    "                count = count + 1\n",
    "        print('FDA正确率为' + str((n-count)/n)[:6])\n",
    "        return (n-count)/n\n",
    "        \n",
    "    def distance(self, X):\n",
    "        return np.dot(X, self.w)"
   ]
  },
  {
   "cell_type": "code",
   "execution_count": null,
   "id": "35610ce2-4ea8-4467-b7d9-cbd0860626ff",
   "metadata": {},
   "outputs": [],
   "source": [
    "mean1 = [-5, 0]\n",
    "s1 = [[1, 0], [0, 1]]\n",
    "data1 = np.random.multivariate_normal(mean1, s1, 200)\n",
    "mean2 = [0, 5]\n",
    "s2 = [[1, 0], [0, 1]]\n",
    "data2 = np.random.multivariate_normal(mean2, s2, 200)\n",
    "X = np.vstack((data1, data2))\n",
    "ones = np.ones(200).reshape(-1,1)\n",
    "y = np.vstack((ones,-1*ones))\n",
    "Xtrain, Xtest, ytrain, ytest = train_test_split(X, y, test_size=0.2)"
   ]
  },
  {
   "cell_type": "code",
   "execution_count": null,
   "id": "1e874791-8ded-4d6e-93d4-ed9eb4601693",
   "metadata": {},
   "outputs": [],
   "source": [
    "model = FDA()\n",
    "model.fit(Xtrain, ytrain)\n",
    "print('最佳投影向量为：' + str(model.w))\n",
    "print('分类阈值为：' + str(model.threshold))\n",
    "model.score(Xtrain,ytrain)\n",
    "model.score(Xtest, ytest);"
   ]
  },
  {
   "cell_type": "code",
   "execution_count": null,
   "id": "8a2d2f86-e094-43c0-b017-9658847c6ea3",
   "metadata": {
    "tags": []
   },
   "outputs": [],
   "source": [
    "train_index = (ytrain==1).ravel()\n",
    "test_index = (ytest==1).ravel()\n",
    "plt.figure(figsize=(5, 5))\n",
    "axis_min = min(np.min(Xtrain, axis=0)) - 1\n",
    "axis_max = max(np.max(Xtrain, axis=0)) + 1\n",
    "plt.xlim(axis_min, axis_max)\n",
    "plt.ylim(axis_min, axis_max)\n",
    "plt.scatter(Xtrain[train_index, 0], Xtrain[train_index, 1], marker='.', c='b', s=100\n",
    "            , label='train +1')\n",
    "plt.scatter(Xtrain[~train_index, 0], Xtrain[~train_index, 1], marker='.', c='k', s=100\n",
    "           , label='train -1')\n",
    "plt.scatter(Xtest[test_index, 0], Xtest[test_index, 1], marker='D', c='r', label='test +1')\n",
    "plt.scatter(Xtest[~test_index, 0], Xtest[~test_index, 1], marker='D', c='y', label='test -1')\n",
    "ax = plt.gca()\n",
    "xlim = ax.get_xlim()\n",
    "ylim = ax.get_ylim()\n",
    "axisx = np.linspace(xlim[0], xlim[1], 30)\n",
    "axisy = np.linspace(ylim[0], ylim[1], 30)\n",
    "axisx, axisy = np.meshgrid(axisx, axisy)\n",
    "xy = np.vstack([axisx.ravel(), axisy.ravel()]).T\n",
    "z = model.distance(xy).reshape(axisx.shape)\n",
    "plt.contour(axisx, axisy, z, levels=[model.threshold], linestyles=['-'])\n",
    "plt.contour(axisx, axisy, z, levels=[0], linestyles=['--'], alpha=0.4)\n",
    "alpha = 1/min([model.w[0], model.w[1]])\n",
    "plt.arrow(0, 0, alpha*model.w[0], alpha*model.w[1], head_width=0.3)\n",
    "plt.legend()\n",
    "plt.title('FDA')\n",
    "plt.show();"
   ]
  }
 ],
 "metadata": {
  "kernelspec": {
   "display_name": "Python 3 (ipykernel)",
   "language": "python",
   "name": "python3"
  },
  "language_info": {
   "codemirror_mode": {
    "name": "ipython",
    "version": 3
   },
   "file_extension": ".py",
   "mimetype": "text/x-python",
   "name": "python",
   "nbconvert_exporter": "python",
   "pygments_lexer": "ipython3",
   "version": "3.9.7"
  }
 },
 "nbformat": 4,
 "nbformat_minor": 5
}
